{
  "nbformat": 4,
  "nbformat_minor": 0,
  "metadata": {
    "colab": {
      "name": "LearningDNN.ipynb",
      "version": "0.3.2",
      "provenance": [],
      "private_outputs": true,
      "collapsed_sections": [],
      "include_colab_link": true
    },
    "kernelspec": {
      "name": "python3",
      "display_name": "Python 3"
    },
    "accelerator": "GPU"
  },
  "cells": [
    {
      "cell_type": "markdown",
      "metadata": {
        "id": "view-in-github",
        "colab_type": "text"
      },
      "source": [
        "<a href=\"https://colab.research.google.com/github/PashaTikhonov/LearningDNN/blob/master/LearningDNN.ipynb\" target=\"_parent\"><img src=\"https://colab.research.google.com/assets/colab-badge.svg\" alt=\"Open In Colab\"/></a>"
      ]
    },
    {
      "cell_type": "code",
      "metadata": {
        "id": "2HSEA5XlTj-x",
        "colab_type": "code",
        "colab": {}
      },
      "source": [
        "import numpy as np\n",
        "import matplotlib.pyplot as plt\n",
        "\n",
        "img_shape = (28, 28)\n",
        "rand_image = np.random.randint(255, size=img_shape)\n",
        "print(rand_image.shape)\n",
        "\n",
        "plt.imshow(rand_image, cmap='gray', vmin=0, vmax=255)\n",
        "plt.show()\n",
        "\n"
      ],
      "execution_count": 0,
      "outputs": []
    },
    {
      "cell_type": "code",
      "metadata": {
        "id": "rGZIcbLZBEY3",
        "colab_type": "code",
        "colab": {}
      },
      "source": [
        "import os\n",
        "from google.colab import drive\n",
        "drive.mount('/gdrive')\n",
        "%cd /gdrive\n",
        "\n",
        "#entries = os.listdir('C:\\\\Users\\\\user\\\\Google Drive\\\\ColabFiles\\\\TrainingData')\n",
        "#print(entries)"
      ],
      "execution_count": 0,
      "outputs": []
    },
    {
      "cell_type": "code",
      "metadata": {
        "id": "8N6KbiMyE2i2",
        "colab_type": "code",
        "colab": {}
      },
      "source": [
        "entries = files = os.listdir(os.curdir)\n",
        "print(entries)"
      ],
      "execution_count": 0,
      "outputs": []
    },
    {
      "cell_type": "code",
      "metadata": {
        "id": "li0JpY4nHubg",
        "colab_type": "code",
        "colab": {}
      },
      "source": [
        "os.chdir('/ColabFiles')"
      ],
      "execution_count": 0,
      "outputs": []
    },
    {
      "cell_type": "code",
      "metadata": {
        "id": "9fpZQH9pJTYG",
        "colab_type": "code",
        "colab": {}
      },
      "source": [
        "# Do we have cuda?!\n",
        "!which nvcc\n",
        "!nvcc --version"
      ],
      "execution_count": 0,
      "outputs": []
    },
    {
      "cell_type": "code",
      "metadata": {
        "id": "4jc9NHeyaPA9",
        "colab_type": "code",
        "colab": {}
      },
      "source": [
        "# Let's check if a GPU accelerator card is attached in our machine:\n",
        "!ls -l /dev/nv*"
      ],
      "execution_count": 0,
      "outputs": []
    },
    {
      "cell_type": "code",
      "metadata": {
        "id": "DXRBAEwfade7",
        "colab_type": "code",
        "colab": {}
      },
      "source": [
        "! nvidia-smi"
      ],
      "execution_count": 0,
      "outputs": []
    },
    {
      "cell_type": "code",
      "metadata": {
        "id": "Hkkc2S9tapLu",
        "colab_type": "code",
        "colab": {}
      },
      "source": [
        ""
      ],
      "execution_count": 0,
      "outputs": []
    }
  ]
}