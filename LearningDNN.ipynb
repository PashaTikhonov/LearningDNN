{
  "nbformat": 4,
  "nbformat_minor": 0,
  "metadata": {
    "colab": {
      "name": "LearningDNN.ipynb",
      "version": "0.3.2",
      "provenance": [],
      "private_outputs": true,
      "collapsed_sections": [],
      "include_colab_link": true
    },
    "kernelspec": {
      "name": "python3",
      "display_name": "Python 3"
    },
    "accelerator": "GPU"
  },
  "cells": [
    {
      "cell_type": "markdown",
      "metadata": {
        "id": "view-in-github",
        "colab_type": "text"
      },
      "source": [
        "<a href=\"https://colab.research.google.com/github/PashaTikhonov/LearningDNN/blob/master/LearningDNN.ipynb\" target=\"_parent\"><img src=\"https://colab.research.google.com/assets/colab-badge.svg\" alt=\"Open In Colab\"/></a>"
      ]
    },
    {
      "cell_type": "code",
      "metadata": {
        "id": "2HSEA5XlTj-x",
        "colab_type": "code",
        "colab": {}
      },
      "source": [
        "import numpy as np\n",
        "import matplotlib.pyplot as plt\n",
        "\n",
        "img_shape = (28, 28)\n",
        "rand_image = np.random.randint(255, size=img_shape)\n",
        "print(rand_image.shape)\n",
        "\n",
        "plt.imshow(rand_image, cmap='gray', vmin=0, vmax=255)\n",
        "plt.show()\n",
        "\n"
      ],
      "execution_count": 0,
      "outputs": []
    },
    {
      "cell_type": "code",
      "metadata": {
        "id": "rGZIcbLZBEY3",
        "colab_type": "code",
        "colab": {}
      },
      "source": [
        "! pip install kaggle"
      ],
      "execution_count": 0,
      "outputs": []
    },
    {
      "cell_type": "code",
      "metadata": {
        "id": "8N6KbiMyE2i2",
        "colab_type": "code",
        "colab": {}
      },
      "source": [
        "! mkdir .kaggle\n",
        "#entries = files = os.listdir(os.curdir)\n",
        "#print(entries)"
      ],
      "execution_count": 0,
      "outputs": []
    },
    {
      "cell_type": "code",
      "metadata": {
        "id": "li0JpY4nHubg",
        "colab_type": "code",
        "colab": {}
      },
      "source": [
        "! ls -a\n",
        "#os.chdir('/ColabFiles')"
      ],
      "execution_count": 0,
      "outputs": []
    },
    {
      "cell_type": "code",
      "metadata": {
        "id": "9fpZQH9pJTYG",
        "colab_type": "code",
        "colab": {}
      },
      "source": [
        "%%file /content/.kaggle/kaggle.json\n",
        "\n",
        "{\"username\":\"pashatikhonov\",\"key\":\"4659e1cbe64beba6175326b05988b728\"}\n"
      ],
      "execution_count": 0,
      "outputs": []
    },
    {
      "cell_type": "code",
      "metadata": {
        "id": "fDtlWciN-3Kg",
        "colab_type": "code",
        "colab": {}
      },
      "source": [
        "!chmod 600 /content/.kaggle/kaggle.json\n"
      ],
      "execution_count": 0,
      "outputs": []
    },
    {
      "cell_type": "code",
      "metadata": {
        "id": "4jc9NHeyaPA9",
        "colab_type": "code",
        "colab": {}
      },
      "source": [
        "!cp /content/.kaggle/kaggle.json /root/.kaggle/kaggle.json\n"
      ],
      "execution_count": 0,
      "outputs": []
    },
    {
      "cell_type": "code",
      "metadata": {
        "id": "DXRBAEwfade7",
        "colab_type": "code",
        "colab": {}
      },
      "source": [
        "!kaggle competitions download -c digit-recognizer"
      ],
      "execution_count": 0,
      "outputs": []
    },
    {
      "cell_type": "code",
      "metadata": {
        "id": "Hkkc2S9tapLu",
        "colab_type": "code",
        "colab": {}
      },
      "source": [
        "import numpy as np # linear algebra\n",
        "import pandas as pd # data processing, CSV file I/O (e.g. pd.read_csv)\n",
        "import os\n",
        "from tensorflow.python import keras\n",
        "from tensorflow.python.keras.models import Sequential\n",
        "from tensorflow.python.keras.layers import Dense, Flatten, Conv2D, Dropout\n",
        "\n",
        "\n",
        "# Input data files are available in the \"../input/\" directory.\n",
        "# For example, running this (by clicking run or pressing Shift+Enter) will list the files in the input directory\n",
        "\n",
        "\n",
        "#print(os.listdir(\"../input\"))\n",
        "\n",
        "# Any results you write to the current directory are saved as output.\n",
        "#Loading and exploring the MNIST data set\n",
        "train_data_path = '../content/train.csv'\n",
        "test_data_path = '../content/test.csv'\n",
        "train_data = pd.read_csv(train_data_path)\n",
        "test_data = pd.read_csv(test_data_path)\n",
        "\n",
        "#print(train_data.head()) # just to make sure I know the structure of the data\n",
        "\n",
        "X_train = train_data.values[:,1:]\n",
        "y_train = train_data.values[:,0]\n",
        "\n",
        "img_rows = 28\n",
        "img_cols = 28\n",
        "num_classes = 10\n",
        "\n",
        "#print(train_data.values[:,1:].shape)\n",
        "num_images = X_train.shape[0]\n",
        "x_shaped_array = X_train.reshape(num_images, img_rows, img_cols, 1)\n",
        "out_x = x_shaped_array / 255\n",
        "#print(out_x.shape)\n"
      ],
      "execution_count": 0,
      "outputs": []
    },
    {
      "cell_type": "code",
      "metadata": {
        "id": "tpSsiZZRFkR6",
        "colab_type": "code",
        "colab": {}
      },
      "source": [
        "print(out_x.shape)"
      ],
      "execution_count": 0,
      "outputs": []
    },
    {
      "cell_type": "code",
      "metadata": {
        "id": "lhNtylNzF4IX",
        "colab_type": "code",
        "colab": {}
      },
      "source": [
        "# Defining the model\n",
        "my_model = Sequential()\n",
        "my_model.add(Conv2D(32, kernel_size=(2, 2),\n",
        "                 activation='relu',\n",
        "                 input_shape=(img_rows, img_cols, 1),data_format=\"channels_last\"))\n",
        "my_model.add(Conv2D(32, kernel_size=2, activation='relu', data_format=\"channels_last\"))\n",
        "my_model.add(Conv2D(32, kernel_size=2, activation='relu', data_format=\"channels_last\"))\n",
        "my_model.add(Conv2D(16, kernel_size=2, activation='relu', data_format=\"channels_last\"))\n",
        "my_model.add(Conv2D(16, kernel_size=2, activation='relu', data_format=\"channels_last\"))\n",
        "my_model.add(Flatten())\n",
        "my_model.add(Dense(128, activation='relu'))\n",
        "my_model.add(Dense(num_classes, activation='softmax'))\n",
        "\n",
        "my_model.compile(loss=keras.losses.sparse_categorical_crossentropy,\n",
        "              optimizer='adam',\n",
        "              metrics=['accuracy'])\n",
        "my_model.fit(out_x, y_train,\n",
        "          batch_size=128,\n",
        "          epochs=16,\n",
        "          validation_split = 0.1)"
      ],
      "execution_count": 0,
      "outputs": []
    },
    {
      "cell_type": "code",
      "metadata": {
        "id": "xdYYGqgTGJLj",
        "colab_type": "code",
        "colab": {}
      },
      "source": [
        "X_test = test_data.values\n",
        "\n",
        "          \n",
        "num_images_test = X_test.shape[0]\n",
        "x_shaped_array_test = X_test.reshape(num_images_test, img_rows, img_cols, 1)\n",
        "out_x_test = x_shaped_array_test / 255\n",
        "\n",
        "\n",
        "predictions = my_model.predict(out_x_test)\n",
        "predicted_labels = np.argmax(predictions, axis=1)\n",
        "d = {'ImageId': np.arange(1, 28001), 'Label': predicted_labels}\n",
        "final_predictions = pd.DataFrame(data=d, index=np.arange(1, 28001))"
      ],
      "execution_count": 0,
      "outputs": []
    },
    {
      "cell_type": "code",
      "metadata": {
        "id": "Nc7jbRSCGmYa",
        "colab_type": "code",
        "colab": {}
      },
      "source": [
        "predictions_path = 'submission2.csv'\n",
        "pd.DataFrame(final_predictions).to_csv(predictions_path, index=None)"
      ],
      "execution_count": 0,
      "outputs": []
    },
    {
      "cell_type": "code",
      "metadata": {
        "id": "Let86xaVGuFl",
        "colab_type": "code",
        "colab": {}
      },
      "source": [
        ""
      ],
      "execution_count": 0,
      "outputs": []
    }
  ]
}